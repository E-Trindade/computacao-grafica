{
 "cells": [
  {
   "cell_type": "code",
   "execution_count": 1,
   "metadata": {},
   "outputs": [],
   "source": [
    "# %matplotlib notebook\n",
    "%matplotlib tk\n",
    "\n",
    "import numpy as np\n",
    "import matplotlib\n",
    "import matplotlib.pyplot as plt\n",
    "import multiprocessing\n",
    "\n",
    "from ipywidgets import widgets\n",
    "\n",
    "import skimage\n",
    "from skimage import io\n",
    "from skimage.viewer import ImageViewer\n",
    "\n",
    "\n",
    "# matplotlib.rcParams['toolbar'] = 'None'\n",
    "\n"
   ]
  },
  {
   "cell_type": "code",
   "execution_count": 2,
   "metadata": {},
   "outputs": [
    {
     "name": "stderr",
     "output_type": "stream",
     "text": [
      "/home/rainsong/miniconda3/envs/cg/lib/python3.7/site-packages/skimage/transform/_warps.py:24: UserWarning: The default multichannel argument (None) is deprecated.  Please specify either True or False explicitly.  multichannel will default to False starting with release 0.16.\n",
      "  warn('The default multichannel argument (None) is deprecated.  Please '\n",
      "/home/rainsong/miniconda3/envs/cg/lib/python3.7/site-packages/skimage/transform/_warps.py:105: UserWarning: The default mode, 'constant', will be changed to 'reflect' in skimage 0.15.\n",
      "  warn(\"The default mode, 'constant', will be changed to 'reflect' in \"\n",
      "/home/rainsong/miniconda3/envs/cg/lib/python3.7/site-packages/skimage/transform/_warps.py:110: UserWarning: Anti-aliasing will be enabled by default in skimage 0.15 to avoid aliasing artifacts when down-sampling images.\n",
      "  warn(\"Anti-aliasing will be enabled by default in skimage 0.15 to \"\n"
     ]
    },
    {
     "name": "stdout",
     "output_type": "stream",
     "text": [
      "(340, 226, 3)\n"
     ]
    },
    {
     "data": {
      "text/plain": [
       "array([[[0.21768156, 0.20201264, 0.17651376],\n",
       "        [0.21365333, 0.19404548, 0.17051607],\n",
       "        [0.23117872, 0.21157087, 0.18804146],\n",
       "        ...,\n",
       "        [0.31090455, 0.29913985, 0.26587347],\n",
       "        [0.29024517, 0.27848047, 0.25102949],\n",
       "        [0.30702279, 0.29330598, 0.26195078]],\n",
       "\n",
       "       [[0.22126578, 0.20559686, 0.18009799],\n",
       "        [0.2265698 , 0.20696196, 0.18343255],\n",
       "        [0.23551255, 0.21590471, 0.19237529],\n",
       "        ...,\n",
       "        [0.31289106, 0.29720479, 0.26191067],\n",
       "        [0.30127007, 0.28950536, 0.26205438],\n",
       "        [0.27747119, 0.26375438, 0.23239918]]])"
      ]
     },
     "execution_count": 2,
     "metadata": {},
     "output_type": "execute_result"
    }
   ],
   "source": [
    "img = io.imread(f'images/cat03.jpg')\n",
    "img = skimage.transform.rescale(img, 0.1)\n",
    "print(img.shape)\n",
    "img[:2]"
   ]
  },
  {
   "cell_type": "code",
   "execution_count": 3,
   "metadata": {},
   "outputs": [
    {
     "data": {
      "text/plain": [
       "<matplotlib.image.AxesImage at 0x7f379b93cda0>"
      ]
     },
     "execution_count": 3,
     "metadata": {},
     "output_type": "execute_result"
    }
   ],
   "source": [
    "# viewer = ImageViewer(img)\n",
    "# viewer.show()\n",
    "f, axarr = plt.subplots(1,1)\n",
    "axarr.axis('off')\n",
    "axarr.imshow(img)"
   ]
  },
  {
   "cell_type": "code",
   "execution_count": 4,
   "metadata": {},
   "outputs": [
    {
     "data": {
      "text/plain": [
       "<matplotlib.image.AxesImage at 0x7f379b881978>"
      ]
     },
     "execution_count": 4,
     "metadata": {},
     "output_type": "execute_result"
    }
   ],
   "source": [
    "gray_image = img.copy()\n",
    "\n",
    "y_, x_, _ = gray_image.shape\n",
    "for x in range(x_):\n",
    "    for y in range(y_):\n",
    "        gray = np.mean(gray_image[y, x])\n",
    "        gray_image[y, x] = gray\n",
    "\n",
    "f, axarr = plt.subplots(1,1)\n",
    "axarr.axis('off')\n",
    "axarr.imshow(gray_image)"
   ]
  },
  {
   "cell_type": "code",
   "execution_count": 6,
   "metadata": {},
   "outputs": [
    {
     "data": {
      "text/plain": [
       "<matplotlib.image.AxesImage at 0x7f379af4a940>"
      ]
     },
     "execution_count": 6,
     "metadata": {},
     "output_type": "execute_result"
    }
   ],
   "source": [
    "im = gray_image.copy()\n",
    "\n",
    "x_max, y_max, _ = im.shape\n",
    "\n",
    "def get_neighborhood(x, y, size):\n",
    "    for x_ in range(x - size, x + size):\n",
    "        for y_ in range(y - size, y + size):\n",
    "#             print(x, y, size)\n",
    "            if x < 0 or y < 0 or x >= x_max or y >= y_max:\n",
    "                continue\n",
    "            yield im[x, y], x, y\n",
    "\n",
    "def get_mean(x, y, size):\n",
    "    g = 0\n",
    "    count = 0\n",
    "    for px, x, y in get_neighborhood(x, y, size):\n",
    "        g += px[0]\n",
    "        count += 1\n",
    "    return g / count\n",
    "\n",
    "new_image = im.copy()\n",
    "for x in range(0, x_max):\n",
    "    for y in range(0, y_max):\n",
    "        new_image[x, y] = get_mean(x, y, size=15)\n",
    "        \n",
    "f, axarr = plt.subplots(1,2)\n",
    "for ax in axarr: ax.axis('off')\n",
    "\n",
    "axarr[0].imshow(gray_image)\n",
    "axarr[1].imshow(new_image)"
   ]
  },
  {
   "cell_type": "code",
   "execution_count": null,
   "metadata": {},
   "outputs": [],
   "source": []
  }
 ],
 "metadata": {
  "kernelspec": {
   "display_name": "Python 3",
   "language": "python",
   "name": "python3"
  },
  "language_info": {
   "codemirror_mode": {
    "name": "ipython",
    "version": 3
   },
   "file_extension": ".py",
   "mimetype": "text/x-python",
   "name": "python",
   "nbconvert_exporter": "python",
   "pygments_lexer": "ipython3",
   "version": "3.7.2"
  }
 },
 "nbformat": 4,
 "nbformat_minor": 2
}
