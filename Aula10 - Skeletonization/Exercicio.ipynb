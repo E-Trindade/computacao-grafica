{
 "cells": [
  {
   "cell_type": "code",
   "execution_count": 1,
   "metadata": {},
   "outputs": [],
   "source": [
    "%matplotlib inline\n",
    "import matplotlib\n",
    "import matplotlib.pyplot as plt\n",
    "import skimage.io as io\n",
    "import numpy as np"
   ]
  },
  {
   "cell_type": "code",
   "execution_count": 2,
   "metadata": {},
   "outputs": [],
   "source": [
    "WHITE = 255\n",
    "BLACK = 0"
   ]
  },
  {
   "cell_type": "code",
   "execution_count": 3,
   "metadata": {},
   "outputs": [],
   "source": [
    "def apply_global_median_threshold(im):\n",
    "    im = im[:, :, 0]\n",
    "    median_threshold = np.median(im.flatten())\n",
    "    return 255 * (im >= median_threshold)"
   ]
  },
  {
   "cell_type": "code",
   "execution_count": 30,
   "metadata": {},
   "outputs": [],
   "source": [
    "\n",
    "def neighbours(x, y, img):\n",
    "    return [ img[x-1][y], img[x-1][y+1], img[x][y+1], img[x+1][y+1],     # P2,P3,P4,P5\n",
    "                img[x+1][y], img[x+1][y-1], img[x][y-1], img[x-1][y-1] ]    # P6,P7,P8,P9\n",
    "\n",
    "def transitions(neighbours):\n",
    "    n = neighbours + neighbours[0]      # P2, P3, ..., P9, P2\n",
    "    return sum( (n1, n2) == (WHITE, BLACK) for n1, n2 in zip(n, n[1:]) )  # (P2,P3), (P3,P4), ... , (P8,P9), (P9,P2)\n",
    "\n",
    "def zhang_suen(image):\n",
    "    final_image = image.copy()\n",
    "\n",
    "    rows, columns = final_image.shape\n",
    "    has_pixels_to_process = True\n",
    "    \n",
    "    while has_pixels_to_process:   #  iterates until no further changes occur in the image\n",
    "        has_pixels_to_process = False\n",
    "        # Step 1\n",
    "        points_to_flip = []\n",
    "        for x in range(1, rows - 1):\n",
    "            for y in range(1, columns - 1):                \n",
    "                n = neighbours(x, y, final_image)\n",
    "                P2,P3,P4,P5,P6,P7,P8,P9 = n\n",
    "                if (final_image[x][y] == BLACK and                  # Condition 0: P1 is filled\n",
    "                    2 <= len([x for x in n if x == BLACK]) <= 6 and          # Condition 1: 2<= N(P1) <= 6\n",
    "                    transitions(n) == 1 and           # Condition 2: S(P1)=1 (Has only one transition)  \n",
    "                    WHITE in [P2, P4, P6] and         # Up, right or down are empty\n",
    "                    WHITE in [P4, P6, P8]):            # Right, down or left are empty\n",
    "                    points_to_flip.append((x,y))\n",
    "        \n",
    "#         for x, y in points_to_flip:\n",
    "#             has_pixels_to_process = True\n",
    "#             final_image[x][y] = WHITE\n",
    "        \n",
    "        # Step 2\n",
    "#         points_to_flip = []\n",
    "        for x in range(1, rows - 1):\n",
    "            for y in range(1, columns - 1):                \n",
    "                n = neighbours(x, y, final_image)\n",
    "                P2,P3,P4,P5,P6,P7,P8,P9 = n\n",
    "                if (final_image[x][y] == BLACK and                  # Condition 0: P1 is filled\n",
    "                    2 <= len([x for x in n if x == BLACK]) <= 6 and          # Condition 1: 2<= N(P1) <= 6\n",
    "                    transitions(n) == 1 and           # Condition 2: S(P1)=1 (Has only one transition)  \n",
    "                    WHITE in [P2, P4, P8] and         # Left, up or right are empty\n",
    "                    WHITE in [P2, P6, P8]):           # Up, left or down are filled\n",
    "                    points_to_flip.append((x,y))\n",
    "\n",
    "            for x, y in points_to_flip:\n",
    "                has_pixels_to_process = True\n",
    "                final_image[x][y] = WHITE\n",
    "    return final_image"
   ]
  },
  {
   "cell_type": "code",
   "execution_count": 31,
   "metadata": {},
   "outputs": [],
   "source": [
    "\n",
    "def show_before_after_img(im1, im2):\n",
    "    fig, ax = plt.subplots(1, 2)\n",
    "    ax1, ax2 = ax.ravel()\n",
    "    ax1.imshow(im1, cmap=plt.cm.gray)\n",
    "    ax1.set_title('Original binary image')\n",
    "    ax1.axis('off')\n",
    "    ax2.imshow(im2, cmap=plt.cm.gray)\n",
    "    ax2.set_title('Skeleton of the image')\n",
    "    ax2.axis('off')\n",
    "    plt.show()"
   ]
  },
  {
   "cell_type": "code",
   "execution_count": 32,
   "metadata": {},
   "outputs": [
    {
     "data": {
      "image/png": "[encoded data removed]",
      "text/plain": [
       "<Figure size 432x288 with 2 Axes>"
      ]
     },
     "metadata": {
      "needs_background": "light"
     },
     "output_type": "display_data"
    }
   ],
   "source": [
    "image = io.imread('./images/exerc3a.bmp')\n",
    "thresholded_image = apply_global_median_threshold(image)\n",
    "processed_image = zhang_suen(thresholded_image)\n",
    "show_before_after_img(image, processed_image)"
   ]
  },
  {
   "cell_type": "code",
   "execution_count": 33,
   "metadata": {},
   "outputs": [
    {
     "data": {
      "image/png": "[encoded data removed]",
      "text/plain": [
       "<Figure size 432x288 with 2 Axes>"
      ]
     },
     "metadata": {
      "needs_background": "light"
     },
     "output_type": "display_data"
    }
   ],
   "source": [
    "image = io.imread('./images/exerc3b.bmp')\n",
    "thresholded_image = apply_global_median_threshold(image)\n",
    "processed_image = zhang_suen(thresholded_image)\n",
    "show_before_after_img(image, processed_image)"
   ]
  },
  {
   "cell_type": "code",
   "execution_count": 34,
   "metadata": {},
   "outputs": [
    {
     "data": {
      "image/png": "[encoded data removed]",
      "text/plain": [
       "<Figure size 432x288 with 2 Axes>"
      ]
     },
     "metadata": {
      "needs_background": "light"
     },
     "output_type": "display_data"
    }
   ],
   "source": [
    "image = io.imread('./images/exerc3c.bmp')\n",
    "thresholded_image = apply_global_median_threshold(image)\n",
    "processed_image = zhang_suen(thresholded_image)\n",
    "show_before_after_img(image, processed_image)"
   ]
  },
  {
   "cell_type": "code",
   "execution_count": 35,
   "metadata": {},
   "outputs": [
    {
     "data": {
      "image/png": "[encoded data removed]",
      "text/plain": [
       "<Figure size 432x288 with 2 Axes>"
      ]
     },
     "metadata": {
      "needs_background": "light"
     },
     "output_type": "display_data"
    }
   ],
   "source": [
    "image = io.imread('./images/exerc3d.bmp')\n",
    "thresholded_image = apply_global_median_threshold(image)\n",
    "processed_image = zhang_suen(thresholded_image)\n",
    "show_before_after_img(image, processed_image)"
   ]
  },
  {
   "cell_type": "code",
   "execution_count": 36,
   "metadata": {},
   "outputs": [
    {
     "data": {
      "image/png": "[encoded data removed]",
      "text/plain": [
       "<Figure size 432x288 with 2 Axes>"
      ]
     },
     "metadata": {
      "needs_background": "light"
     },
     "output_type": "display_data"
    }
   ],
   "source": [
    "image = io.imread('./images/exerc3e.bmp')\n",
    "thresholded_image = apply_global_median_threshold(image)\n",
    "processed_image = zhang_suen(thresholded_image)\n",
    "show_before_after_img(image, processed_image)"
   ]
  }
 ],
 "metadata": {
  "kernelspec": {
   "display_name": "Python 3",
   "language": "python",
   "name": "python3"
  },
  "language_info": {
   "codemirror_mode": {
    "name": "ipython",
    "version": 3
   },
   "file_extension": ".py",
   "mimetype": "text/x-python",
   "name": "python",
   "nbconvert_exporter": "python",
   "pygments_lexer": "ipython3",
   "version": "3.7.2"
  }
 },
 "nbformat": 4,
 "nbformat_minor": 2
}
