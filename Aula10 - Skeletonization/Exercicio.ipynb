{
 "cells": [
  {
   "cell_type": "code",
   "execution_count": 52,
   "metadata": {},
   "outputs": [],
   "source": [
    "import matplotlib\n",
    "import matplotlib.pyplot as plt\n",
    "import skimage.io as io\n",
    "import numpy as np"
   ]
  },
  {
   "cell_type": "code",
   "execution_count": 82,
   "metadata": {},
   "outputs": [],
   "source": [
    "def apply_global_median_threshold(im):\n",
    "    im = im[:, :, 0]\n",
    "    median_threshold = np.median(im.flatten())\n",
    "    return (im >= median_threshold) * 255"
   ]
  },
  {
   "cell_type": "code",
   "execution_count": 115,
   "metadata": {},
   "outputs": [],
   "source": [
    "def neighbours(x, y, img):\n",
    "    return [ img[x-1][y], img[x-1][y+1], img[x][y+1], img[x+1][y+1],     # P2,P3,P4,P5\n",
    "                img[x+1][y], img[x+1][y-1], img[x][y-1], img[x-1][y-1] ]    # P6,P7,P8,P9\n",
    "\n",
    "def transitions(neighbours):\n",
    "    \"No. of 0,1 patterns (transitions from 0 to 1) in the ordered sequence\"\n",
    "    n = neighbours + neighbours[0]      # P2, P3, ..., P9, P2\n",
    "    return sum( (n1, n2) == (0, 255) for n1, n2 in zip(n, n[1:]) )  # (P2,P3), (P3,P4), ... , (P8,P9), (P9,P2)\n",
    "\n",
    "def zhang_suen(image):\n",
    "    final_image = image.copy()\n",
    "\n",
    "    rows, columns = final_image.shape\n",
    "    has_pixels_to_process = True\n",
    "    \n",
    "    while has_pixels_to_process:   #  iterates until no further changes occur in the image\n",
    "        has_pixels_to_process = False\n",
    "        # Step 1\n",
    "        points_to_flip = []\n",
    "        for x in range(1, rows - 1):\n",
    "            for y in range(1, columns - 1):                \n",
    "                n = neighbours(x, y, final_image)\n",
    "                P2,P3,P4,P5,P6,P7,P8,P9 = n\n",
    "                if (final_image[x][y] == 0 and    # Condition 0: P1 is filled\n",
    "                    2 <= sum(n)/255 <= 6 and      # Condition 1: 2<= N(P1) <= 6\n",
    "                    transitions(n) == 1 and       # Condition 2: S(P1)=1 (Has only one transition)  \n",
    "                    P2 * P4 * P6 == 0 and         # Up, right or down are empty\n",
    "                    P4 * P6 * P8 == 0):           # Right, down or left are empty\n",
    "                    points_to_flip.append((x,y))\n",
    "        for x, y in points_to_flip:\n",
    "            has_pixels_to_process = True\n",
    "            final_image[x][y] = 255\n",
    "        \n",
    "        # Step 2\n",
    "        points_to_flip = []\n",
    "        for x in range(1, rows - 1):\n",
    "            for y in range(1, columns - 1):                \n",
    "                n = neighbours(x, y, final_image)\n",
    "                P2,P3,P4,P5,P6,P7,P8,P9 = n\n",
    "                if (final_image[x][y] == 0 and    # Condition 0\n",
    "                    2 <= sum(n) / 255 <= 6  and   # Condition 1\n",
    "                    transitions(n) == 1 and       # Condition 2\n",
    "                    P2 * P4 * P8 == 0 and         # Left, up and right are empty\n",
    "                    P2 * P6 * P8 == 0):           # Up, left and down are empty\n",
    "                    points_to_flip.append((x,y))\n",
    "        print(points_to_flip)\n",
    "        for x, y in points_to_flip:\n",
    "            has_pixels_to_process = True\n",
    "            final_image[x][y] = 255\n",
    "    return final_image"
   ]
  },
  {
   "cell_type": "code",
   "execution_count": 113,
   "metadata": {},
   "outputs": [],
   "source": [
    "\n",
    "def show_before_after_img(im1, im2):\n",
    "    fig, ax = plt.subplots(1, 2)\n",
    "    ax1, ax2 = ax.ravel()\n",
    "    ax1.imshow(im1, cmap=plt.cm.gray)\n",
    "    ax1.set_title('Original binary image')\n",
    "    ax1.axis('off')\n",
    "    ax2.imshow(im2, cmap=plt.cm.gray)\n",
    "    ax2.set_title('Skeleton of the image')\n",
    "    ax2.axis('off')\n",
    "    plt.show()"
   ]
  },
  {
   "cell_type": "code",
   "execution_count": 114,
   "metadata": {},
   "outputs": [
    {
     "ename": "TypeError",
     "evalue": "'int' object is not iterable",
     "output_type": "error",
     "traceback": [
      "\u001b[0;31m------------------------------------------------------------------------\u001b[0m",
      "\u001b[0;31mTypeError\u001b[0m                              Traceback (most recent call last)",
      "\u001b[0;32m<ipython-input-114-35b75e46da83>\u001b[0m in \u001b[0;36m<module>\u001b[0;34m\u001b[0m\n\u001b[1;32m      1\u001b[0m \u001b[0mimage\u001b[0m \u001b[0;34m=\u001b[0m \u001b[0mio\u001b[0m\u001b[0;34m.\u001b[0m\u001b[0mimread\u001b[0m\u001b[0;34m(\u001b[0m\u001b[0;34m'./images/exerc3a.bmp'\u001b[0m\u001b[0;34m)\u001b[0m\u001b[0;34m\u001b[0m\u001b[0;34m\u001b[0m\u001b[0m\n\u001b[1;32m      2\u001b[0m \u001b[0mthresholded_image\u001b[0m \u001b[0;34m=\u001b[0m \u001b[0mapply_global_median_threshold\u001b[0m\u001b[0;34m(\u001b[0m\u001b[0mimage\u001b[0m\u001b[0;34m)\u001b[0m\u001b[0;34m\u001b[0m\u001b[0;34m\u001b[0m\u001b[0m\n\u001b[0;32m----> 3\u001b[0;31m \u001b[0mprocessed_image\u001b[0m \u001b[0;34m=\u001b[0m \u001b[0mzhang_suen\u001b[0m\u001b[0;34m(\u001b[0m\u001b[0mthresholded_image\u001b[0m\u001b[0;34m)\u001b[0m\u001b[0;34m\u001b[0m\u001b[0;34m\u001b[0m\u001b[0m\n\u001b[0m\u001b[1;32m      4\u001b[0m \u001b[0mshow_before_after_img\u001b[0m\u001b[0;34m(\u001b[0m\u001b[0mimage\u001b[0m\u001b[0;34m,\u001b[0m \u001b[0mprocessed_image\u001b[0m\u001b[0;34m)\u001b[0m\u001b[0;34m\u001b[0m\u001b[0;34m\u001b[0m\u001b[0m\n",
      "\u001b[0;32m<ipython-input-112-47a0f8f18082>\u001b[0m in \u001b[0;36mzhang_suen\u001b[0;34m(image)\u001b[0m\n\u001b[1;32m     39\u001b[0m                 \u001b[0mP2\u001b[0m\u001b[0;34m,\u001b[0m\u001b[0mP3\u001b[0m\u001b[0;34m,\u001b[0m\u001b[0mP4\u001b[0m\u001b[0;34m,\u001b[0m\u001b[0mP5\u001b[0m\u001b[0;34m,\u001b[0m\u001b[0mP6\u001b[0m\u001b[0;34m,\u001b[0m\u001b[0mP7\u001b[0m\u001b[0;34m,\u001b[0m\u001b[0mP8\u001b[0m\u001b[0;34m,\u001b[0m\u001b[0mP9\u001b[0m \u001b[0;34m=\u001b[0m \u001b[0mn\u001b[0m\u001b[0;34m\u001b[0m\u001b[0;34m\u001b[0m\u001b[0m\n\u001b[1;32m     40\u001b[0m                 if (final_image[x][y] == 0 and    # Condition 0\n\u001b[0;32m---> 41\u001b[0;31m                     \u001b[0;36m2\u001b[0m \u001b[0;34m<=\u001b[0m \u001b[0msum\u001b[0m\u001b[0;34m(\u001b[0m\u001b[0mx\u001b[0m\u001b[0;34m)\u001b[0m \u001b[0;34m/\u001b[0m \u001b[0;36m255\u001b[0m \u001b[0;34m<=\u001b[0m \u001b[0;36m6\u001b[0m  \u001b[0;32mand\u001b[0m   \u001b[0;31m# Condition 1\u001b[0m\u001b[0;34m\u001b[0m\u001b[0;34m\u001b[0m\u001b[0m\n\u001b[0m\u001b[1;32m     42\u001b[0m                     \u001b[0mtransitions\u001b[0m\u001b[0;34m(\u001b[0m\u001b[0mn\u001b[0m\u001b[0;34m)\u001b[0m \u001b[0;34m==\u001b[0m \u001b[0;36m1\u001b[0m \u001b[0;32mand\u001b[0m       \u001b[0;31m# Condition 2\u001b[0m\u001b[0;34m\u001b[0m\u001b[0;34m\u001b[0m\u001b[0m\n\u001b[1;32m     43\u001b[0m                     \u001b[0mP2\u001b[0m \u001b[0;34m*\u001b[0m \u001b[0mP4\u001b[0m \u001b[0;34m*\u001b[0m \u001b[0mP8\u001b[0m \u001b[0;34m==\u001b[0m \u001b[0;36m0\u001b[0m \u001b[0;32mand\u001b[0m         \u001b[0;31m# Left, up and right are empty\u001b[0m\u001b[0;34m\u001b[0m\u001b[0;34m\u001b[0m\u001b[0m\n",
      "\u001b[0;31mTypeError\u001b[0m: 'int' object is not iterable"
     ]
    }
   ],
   "source": [
    "image = io.imread('./images/exerc3a.bmp')\n",
    "thresholded_image = apply_global_median_threshold(image)\n",
    "processed_image = zhang_suen(thresholded_image)\n",
    "show_before_after_img(image, processed_image)"
   ]
  },
  {
   "cell_type": "code",
   "execution_count": 108,
   "metadata": {},
   "outputs": [
    {
     "name": "stdout",
     "output_type": "stream",
     "text": [
      "[]\n",
      "[(21, 23), (22, 23), (23, 23), (24, 23), (25, 23), (26, 23), (27, 23), (28, 23), (29, 23), (30, 23), (31, 23), (32, 23), (33, 23), (42, 24), (42, 25), (42, 26), (42, 27), (42, 28), (42, 29), (42, 30), (42, 31), (42, 32), (42, 33), (42, 34), (43, 23), (44, 23), (45, 23), (46, 23), (47, 23), (48, 23), (49, 23), (50, 23), (51, 23), (52, 23), (53, 23), (54, 23), (55, 23), (56, 23), (57, 13), (57, 14), (57, 15), (57, 16), (57, 17), (57, 18), (57, 19), (57, 20), (57, 21), (57, 22), (57, 23), (57, 37), (57, 38), (57, 39), (57, 40), (57, 41), (57, 42), (57, 43), (57, 44), (57, 45), (57, 46)]\n",
      "[]\n",
      "[(21, 22), (22, 22), (23, 22), (24, 22), (25, 22), (26, 22), (27, 22), (28, 22), (29, 22), (30, 22), (31, 22), (32, 22), (33, 22), (41, 24), (41, 25), (41, 26), (41, 27), (41, 28), (41, 29), (41, 30), (41, 31), (41, 32), (41, 33), (41, 34), (42, 23), (43, 22), (44, 22), (45, 22), (46, 22), (47, 22), (48, 22), (49, 22), (50, 22), (51, 22), (52, 22), (53, 22), (54, 22), (55, 22), (56, 13), (56, 14), (56, 15), (56, 16), (56, 17), (56, 18), (56, 19), (56, 20), (56, 21), (56, 22), (56, 37), (56, 38), (56, 39), (56, 40), (56, 41), (56, 42), (56, 43), (56, 44), (56, 45), (56, 46), (56, 47)]\n",
      "[]\n",
      "[(21, 21), (22, 21), (23, 21), (24, 21), (25, 21), (26, 21), (27, 21), (28, 21), (29, 21), (30, 21), (31, 21), (32, 21), (33, 21), (40, 24), (40, 25), (40, 26), (40, 27), (40, 28), (40, 29), (40, 30), (40, 31), (40, 32), (40, 33), (40, 34), (41, 23), (41, 35), (42, 22), (43, 21), (44, 21), (45, 21), (46, 21), (47, 21), (48, 21), (49, 21), (50, 21), (51, 21), (52, 21), (53, 21), (54, 21), (55, 13), (55, 14), (55, 15), (55, 16), (55, 17), (55, 18), (55, 19), (55, 20), (55, 21), (55, 37), (55, 38), (55, 39), (55, 40), (55, 41), (55, 42), (55, 43), (55, 44), (55, 45), (55, 46)]\n",
      "[]\n",
      "[(21, 20), (22, 20), (23, 20), (24, 20), (25, 20), (26, 20), (27, 20), (28, 20), (29, 20), (30, 20), (31, 20), (32, 20), (33, 20), (39, 24), (39, 25), (39, 26), (39, 27), (39, 28), (39, 29), (39, 30), (39, 31), (39, 32), (39, 33), (39, 34), (40, 23), (40, 35), (41, 22), (42, 21), (42, 36), (43, 20), (44, 20), (45, 20), (46, 20), (47, 20), (48, 20), (49, 20), (50, 20), (51, 20), (52, 20), (53, 20), (54, 13), (54, 14), (54, 15), (54, 16), (54, 17), (54, 18), (54, 19), (54, 20), (54, 37), (54, 38), (54, 39), (54, 40), (54, 41), (54, 42), (54, 43), (54, 44), (54, 45), (54, 46), (54, 47)]\n",
      "[]\n",
      "[(21, 19), (22, 19), (23, 19), (24, 19), (25, 19), (26, 19), (27, 19), (28, 19), (29, 19), (30, 19), (31, 19), (32, 19), (33, 19), (38, 24), (38, 25), (38, 26), (38, 27), (38, 28), (38, 29), (38, 30), (38, 31), (38, 32), (38, 33), (38, 34), (39, 23), (39, 35), (40, 22), (40, 36), (41, 21), (42, 20), (43, 19), (44, 19), (45, 19), (46, 19), (47, 19), (48, 19), (49, 19), (50, 19), (51, 19), (52, 19), (53, 13), (53, 14), (53, 15), (53, 16), (53, 17), (53, 18), (53, 19), (53, 37), (53, 38), (53, 39), (53, 40), (53, 41), (53, 42), (53, 43), (53, 44), (53, 45), (53, 46)]\n",
      "[]\n",
      "[(21, 18), (22, 18), (23, 18), (24, 18), (25, 18), (26, 18), (27, 18), (28, 18), (29, 18), (30, 18), (31, 18), (32, 18), (33, 18), (37, 24), (37, 25), (37, 26), (37, 27), (37, 28), (37, 29), (37, 30), (37, 31), (37, 32), (37, 33), (37, 34), (38, 23), (38, 35), (39, 22), (39, 36), (40, 21), (41, 20), (42, 19), (43, 18), (44, 18), (45, 18), (46, 18), (47, 18), (48, 18), (49, 18), (50, 18), (51, 18), (52, 13), (52, 14), (52, 15), (52, 16), (52, 17), (52, 18), (52, 37), (52, 38), (52, 39), (52, 40), (52, 41), (52, 42), (52, 43), (52, 44), (52, 45), (52, 46), (52, 47)]\n",
      "[]\n",
      "[(21, 17), (22, 17), (23, 17), (24, 17), (25, 17), (26, 17), (27, 17), (28, 17), (29, 17), (30, 17), (31, 17), (32, 17), (33, 17), (36, 24), (36, 25), (36, 26), (36, 27), (36, 28), (36, 29), (36, 30), (36, 31), (36, 32), (36, 33), (36, 34), (37, 23), (37, 35), (38, 22), (38, 36), (39, 21), (39, 37), (40, 20), (40, 37), (41, 19), (42, 18), (43, 17), (44, 17), (45, 17), (46, 17), (47, 17), (48, 17), (49, 17), (50, 17), (51, 13), (51, 14), (51, 15), (51, 16), (51, 17), (51, 37), (51, 38), (51, 39), (51, 40), (51, 41), (51, 42), (51, 43), (51, 44), (51, 45), (51, 46)]\n",
      "[]\n",
      "[(21, 16), (22, 16), (23, 16), (24, 16), (25, 16), (26, 16), (27, 16), (28, 16), (29, 16), (30, 16), (31, 16), (32, 16), (33, 16), (35, 24), (35, 25), (35, 26), (35, 27), (35, 28), (35, 29), (35, 30), (35, 31), (35, 32), (35, 33), (35, 34), (36, 23), (36, 35), (37, 22), (37, 36), (38, 21), (38, 37), (39, 20), (39, 38), (40, 19), (40, 38), (41, 18), (42, 17), (43, 16), (44, 16), (45, 16), (46, 16), (47, 16), (48, 16), (49, 16), (50, 13), (50, 14), (50, 15), (50, 16), (50, 37), (50, 38), (50, 39), (50, 40), (50, 41), (50, 42), (50, 43), (50, 44), (50, 45), (50, 46), (50, 47)]\n",
      "[]\n",
      "[(21, 15), (22, 15), (23, 15), (24, 15), (25, 15), (26, 15), (27, 15), (28, 15), (29, 15), (30, 15), (31, 15), (32, 15), (33, 15), (35, 23), (35, 35), (36, 22), (36, 36), (37, 21), (37, 37), (38, 20), (38, 38), (39, 19), (39, 39), (40, 18), (40, 39), (41, 17), (42, 16), (43, 15), (44, 15), (45, 15), (46, 15), (47, 15), (48, 15), (49, 13), (49, 14), (49, 15), (49, 37), (49, 38), (49, 39), (49, 40), (49, 41), (49, 42), (49, 43), (49, 44), (49, 45), (49, 46)]\n",
      "[]\n",
      "[(21, 14), (22, 14), (23, 14), (24, 14), (25, 14), (26, 14), (27, 14), (28, 14), (29, 14), (30, 14), (31, 14), (32, 14), (33, 14), (35, 22), (35, 36), (36, 21), (36, 37), (37, 20), (37, 38), (38, 19), (38, 39), (39, 18), (39, 40), (40, 17), (40, 40), (41, 16), (42, 15), (43, 14), (44, 14), (45, 14), (46, 14), (47, 14), (48, 13), (48, 14), (48, 37), (48, 38), (48, 39), (48, 40), (48, 41), (48, 42), (48, 43), (48, 44), (48, 45), (48, 46), (48, 47)]\n",
      "[]\n",
      "[(21, 13), (22, 13), (23, 13), (24, 13), (25, 13), (26, 13), (27, 13), (28, 13), (29, 13), (30, 13), (31, 13), (32, 13), (33, 13), (35, 21), (35, 37), (36, 20), (36, 38), (37, 19), (37, 39), (38, 18), (38, 40), (39, 17), (39, 41), (40, 16), (40, 41), (41, 15), (42, 14), (43, 13), (44, 13), (45, 13), (46, 13), (47, 13), (47, 37), (47, 38), (47, 39), (47, 40), (47, 41), (47, 42), (47, 43), (47, 44), (47, 45), (47, 46)]\n",
      "[]\n",
      "[(34, 37), (35, 20), (35, 38), (36, 19), (36, 39), (37, 18), (37, 40), (38, 17), (38, 41), (39, 16), (39, 42), (40, 15), (40, 42), (41, 14), (42, 13), (46, 37), (46, 38), (46, 39), (46, 40), (46, 41), (46, 42), (46, 43), (46, 44), (46, 45), (46, 46), (46, 47)]\n",
      "[]\n",
      "[(33, 37), (34, 38), (35, 19), (35, 39), (36, 18), (36, 40), (37, 17), (37, 41), (38, 16), (38, 42), (39, 15), (39, 43), (40, 14), (40, 43), (41, 13), (45, 37), (45, 38), (45, 39), (45, 40), (45, 41), (45, 42), (45, 43), (45, 44), (45, 45), (45, 46)]\n",
      "[]\n",
      "[(32, 37), (33, 38), (34, 39), (35, 18), (35, 40), (36, 17), (36, 41), (37, 16), (37, 42), (38, 15), (38, 43), (39, 14), (39, 44), (40, 13), (40, 44), (44, 37), (44, 38), (44, 39), (44, 40), (44, 41), (44, 42), (44, 43), (44, 44), (44, 45), (44, 46), (44, 47)]\n",
      "[]\n",
      "[(31, 37), (32, 38), (33, 39), (34, 40), (35, 17), (35, 41), (36, 16), (36, 42), (37, 15), (37, 43), (38, 14), (38, 44), (39, 13), (39, 45), (40, 45), (43, 37), (43, 38), (43, 39), (43, 40), (43, 41), (43, 42), (43, 43), (43, 44), (43, 45), (43, 46)]\n",
      "[]\n",
      "[(30, 37), (31, 38), (32, 39), (33, 40), (34, 41), (35, 16), (35, 42), (36, 15), (36, 43), (37, 14), (37, 44), (38, 13), (38, 45), (39, 46), (40, 46), (42, 37), (42, 38), (42, 39), (42, 40), (42, 41), (42, 42), (42, 43), (42, 44), (42, 45), (42, 46), (42, 47)]\n",
      "[]\n",
      "[(29, 37), (30, 38), (31, 39), (32, 40), (33, 41), (34, 42), (35, 15), (35, 43), (36, 14), (36, 44), (37, 13), (37, 45), (38, 46), (38, 47), (39, 47), (40, 47), (41, 47)]\n",
      "[]\n",
      "[(28, 37), (29, 38), (30, 39), (31, 40), (32, 41), (33, 42), (34, 43), (35, 14), (35, 44), (36, 13), (36, 45), (37, 46)]\n",
      "[]\n",
      "[(27, 37), (28, 38), (29, 39), (30, 40), (31, 41), (32, 42), (33, 43), (34, 44), (35, 13), (35, 45), (36, 46), (36, 47)]\n",
      "[]\n",
      "[(26, 37), (27, 38), (28, 39), (29, 40), (30, 41), (31, 42), (32, 43), (33, 44), (34, 45), (35, 46)]\n",
      "[]\n",
      "[(25, 37), (26, 38), (27, 39), (28, 40), (29, 41), (30, 42), (31, 43), (32, 44), (33, 45), (34, 46), (34, 47)]\n",
      "[]\n",
      "[(24, 37), (25, 38), (26, 39), (27, 40), (28, 41), (29, 42), (30, 43), (31, 44), (32, 45), (33, 46)]\n",
      "[]\n",
      "[(23, 37), (24, 38), (25, 39), (26, 40), (27, 41), (28, 42), (29, 43), (30, 44), (31, 45), (32, 46), (32, 47)]\n",
      "[]\n",
      "[(22, 37), (23, 38), (24, 39), (25, 40), (26, 41), (27, 42), (28, 43), (29, 44), (30, 45), (31, 46)]\n"
     ]
    },
    {
     "name": "stdout",
     "output_type": "stream",
     "text": [
      "[]\n",
      "[(21, 37), (22, 38), (23, 39), (24, 40), (25, 41), (26, 42), (27, 43), (28, 44), (29, 45), (30, 46), (30, 47)]\n",
      "[]\n",
      "[(21, 38), (22, 39), (23, 40), (24, 41), (25, 42), (26, 43), (27, 44), (28, 45), (29, 46)]\n",
      "[]\n",
      "[(21, 39), (22, 40), (23, 41), (24, 42), (25, 43), (26, 44), (27, 45), (28, 46), (28, 47)]\n",
      "[]\n",
      "[(21, 40), (22, 41), (23, 42), (24, 43), (25, 44), (26, 45), (27, 46)]\n",
      "[]\n",
      "[(21, 41), (22, 42), (23, 43), (24, 44), (25, 45), (26, 46), (26, 47)]\n",
      "[]\n",
      "[(21, 42), (22, 43), (23, 44), (24, 45), (25, 46)]\n",
      "[]\n",
      "[(21, 43), (22, 44), (23, 45), (24, 46), (24, 47)]\n",
      "[]\n",
      "[(21, 44), (22, 45), (23, 46)]\n",
      "[]\n",
      "[(21, 45), (22, 46), (22, 47)]\n",
      "[]\n",
      "[(21, 46)]\n",
      "[]\n",
      "[]\n"
     ]
    },
    {
     "data": {
      "image/png": "[encoded data removed]",
      "text/plain": [
       "<Figure size 432x288 with 2 Axes>"
      ]
     },
     "metadata": {
      "needs_background": "light"
     },
     "output_type": "display_data"
    }
   ],
   "source": [
    "image = io.imread('./images/exerc3b.bmp')[:, :, 0]\n",
    "processed_image = zhang_suen(image)\n",
    "show_before_after_img(image, processed_image)"
   ]
  },
  {
   "cell_type": "code",
   "execution_count": null,
   "metadata": {},
   "outputs": [],
   "source": []
  }
 ],
 "metadata": {
  "kernelspec": {
   "display_name": "Python 3",
   "language": "python",
   "name": "python3"
  },
  "language_info": {
   "codemirror_mode": {
    "name": "ipython",
    "version": 3
   },
   "file_extension": ".py",
   "mimetype": "text/x-python",
   "name": "python",
   "nbconvert_exporter": "python",
   "pygments_lexer": "ipython3",
   "version": "3.7.2"
  }
 },
 "nbformat": 4,
 "nbformat_minor": 2
}
